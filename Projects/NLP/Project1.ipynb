{
  "nbformat": 4,
  "nbformat_minor": 0,
  "metadata": {
    "colab": {
      "provenance": [],
      "authorship_tag": "ABX9TyOmyjT5QcFkFpjVqe9GLWmR"
    },
    "kernelspec": {
      "name": "python3",
      "display_name": "Python 3"
    },
    "language_info": {
      "name": "python"
    }
  },
  "cells": [
    {
      "cell_type": "markdown",
      "source": [
        "### Project 1: Sentiment Analysis with Natural Language Processing\n",
        "\n",
        "In this project, I developed a sentiment analysis model using natural language processing techniques. The model analyzes text data and predicts the sentiment (positive, negative, or neutral) associated with each input. I used techniques such as text preprocessing, feature extraction, and machine learning algorithms like Naive Bayes and Support Vector Machines (SVM) to achieve accurate sentiment classification.\n"
      ],
      "metadata": {
        "id": "MrJtvx_-svXz"
      }
    },
    {
      "cell_type": "code",
      "source": [
        "## import package\n",
        "import pandas as pd\n"
      ],
      "metadata": {
        "id": "J1ImnH46su9m"
      },
      "execution_count": 2,
      "outputs": []
    },
    {
      "cell_type": "code",
      "source": [
        "print(\"Strong Strings\")"
      ],
      "metadata": {
        "colab": {
          "base_uri": "https://localhost:8080/"
        },
        "id": "7kSIq78htpKC",
        "outputId": "a0913b7f-c8ef-4072-d4ba-bab6899a1e78"
      },
      "execution_count": 3,
      "outputs": [
        {
          "output_type": "stream",
          "name": "stdout",
          "text": [
            "Strong Strings\n"
          ]
        }
      ]
    },
    {
      "cell_type": "code",
      "source": [
        "## load data\n",
        "\n"
      ],
      "metadata": {
        "id": "1DIJhn6VadRl"
      },
      "execution_count": null,
      "outputs": []
    },
    {
      "cell_type": "code",
      "source": [
        "## compute sentiment\n",
        "\n",
        "## langauge processing tasks\n",
        "\n",
        "##  feature extraction\n",
        "\n",
        "## machine learning algos\n",
        "\n",
        "## Naive Bayes\n",
        "## Support Vector Machines (SVM)"
      ],
      "metadata": {
        "id": "AkElp3NaajiM"
      },
      "execution_count": null,
      "outputs": []
    }
  ]
}