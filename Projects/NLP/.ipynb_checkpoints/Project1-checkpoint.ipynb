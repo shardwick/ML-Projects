{
 "cells": [
  {
   "cell_type": "markdown",
   "metadata": {
    "id": "MrJtvx_-svXz"
   },
   "source": [
    "### Project 1: Sentiment Analysis with Natural Language Processing\n",
    "\n",
    "In this project, I developed a sentiment analysis model using natural language processing techniques. The model analyzes text data and predicts the sentiment (positive, negative, or neutral) associated with each input. I used techniques such as text preprocessing, feature extraction, and machine learning algorithms like Naive Bayes and Support Vector Machines (SVM) to achieve accurate sentiment classification.\n"
   ]
  },
  {
   "cell_type": "code",
   "execution_count": 2,
   "metadata": {
    "id": "J1ImnH46su9m"
   },
   "outputs": [],
   "source": [
    "## import package\n",
    "import pandas as pd\n",
    "import pytorch as torch\n",
    "\n"
   ]
  },
  {
   "cell_type": "code",
   "execution_count": 3,
   "metadata": {
    "colab": {
     "base_uri": "https://localhost:8080/"
    },
    "id": "7kSIq78htpKC",
    "outputId": "a0913b7f-c8ef-4072-d4ba-bab6899a1e78"
   },
   "outputs": [
    {
     "name": "stdout",
     "output_type": "stream",
     "text": [
      "Strong Strings\n"
     ]
    }
   ],
   "source": [
    "#which dataset will i use? "
   ]
  },
  {
   "cell_type": "code",
   "execution_count": null,
   "metadata": {
    "id": "1DIJhn6VadRl"
   },
   "outputs": [],
   "source": [
    "## load data\n",
    "\n"
   ]
  },
  {
   "cell_type": "code",
   "execution_count": null,
   "metadata": {
    "id": "AkElp3NaajiM"
   },
   "outputs": [],
   "source": [
    "## compute sentiment\n",
    "\n",
    "## langauge processing tasks\n",
    "\n",
    "## feature extraction\n",
    "\n",
    "## machine learning algos\n",
    "\n",
    "## Naive Bayes\n",
    "## Support Vector Machines (SVM)"
   ]
  }
 ],
 "metadata": {
  "colab": {
   "authorship_tag": "ABX9TyOmyjT5QcFkFpjVqe9GLWmR",
   "provenance": []
  },
  "kernelspec": {
   "display_name": "Python 3 (ipykernel)",
   "language": "python",
   "name": "python3"
  },
  "language_info": {
   "codemirror_mode": {
    "name": "ipython",
    "version": 3
   },
   "file_extension": ".py",
   "mimetype": "text/x-python",
   "name": "python",
   "nbconvert_exporter": "python",
   "pygments_lexer": "ipython3",
   "version": "3.9.7"
  }
 },
 "nbformat": 4,
 "nbformat_minor": 1
}
